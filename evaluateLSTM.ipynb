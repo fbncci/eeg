{
 "cells": [
  {
   "cell_type": "code",
   "execution_count": 1,
   "metadata": {},
   "outputs": [
    {
     "name": "stderr",
     "output_type": "stream",
     "text": [
      "Using TensorFlow backend.\n"
     ]
    }
   ],
   "source": [
    "from keras.preprocessing import sequence\n",
    "from keras.models import Sequential\n",
    "from keras.layers import Dense, Activation, Embedding, LSTM, Dropout\n",
    "from keras.callbacks import EarlyStopping, ModelCheckpoint\n",
    "from keras.callbacks import callbacks"
   ]
  },
  {
   "cell_type": "code",
   "execution_count": 2,
   "metadata": {},
   "outputs": [
    {
     "name": "stderr",
     "output_type": "stream",
     "text": [
      "/wsu/home/el/el85/el8550/.local/lib/python3.7/site-packages/sklearn/utils/deprecation.py:143: FutureWarning: The sklearn.cluster.k_means_ module is  deprecated in version 0.22 and will be removed in version 0.24. The corresponding classes / functions should instead be imported from sklearn.cluster. Anything that cannot be imported from sklearn.cluster is now part of the private API.\n",
      "  warnings.warn(message, FutureWarning)\n"
     ]
    }
   ],
   "source": [
    "import matplotlib.pyplot as plt\n",
    "from tslearn.metrics import dtw\n",
    "from tslearn.barycenters import softdtw_barycenter\n",
    "from tslearn.preprocessing import TimeSeriesScalerMinMax, TimeSeriesScalerMeanVariance, \\\n",
    "    TimeSeriesResampler\n",
    "from tslearn.clustering import TimeSeriesKMeans\n",
    "from sklearn.preprocessing import MinMaxScaler\n",
    "from sklearn.model_selection import train_test_split\n",
    "from sklearn.metrics import f1_score, recall_score, accuracy_score, classification_report, precision_score, confusion_matrix\n",
    "import numpy as np\n",
    "import pandas as pd"
   ]
  },
  {
   "cell_type": "code",
   "execution_count": 21,
   "metadata": {},
   "outputs": [],
   "source": [
    "np.random.seed(42)\n",
    "cols = ['eeg c3', 'eeg c4', 'eeg cz', 'eeg f3', 'eeg f4', 'eeg f7', 'eeg f8', 'eeg fp1', 'eeg fp2', 'eeg fz', 'eeg o1', 'eeg o2', 'eeg p3', 'eeg p4', 'eeg pz', 'eeg t3', 'eeg t4', 'eeg t5', 'eeg t6']\n",
    "# cols = ['eeg c3', 'eeg c4', 'eeg cz', 'eeg f3', 'eeg f4', 'eeg f7', 'eeg f8', 'eeg fp1', 'eeg fp2', 'eeg fz', 'eeg o1', 'eeg o2', 'eeg p3', 'eeg p4', 'eeg pz', 'eeg t3', 'eeg t4', 'eeg t5', 'eeg t6', 'resp effort', 'ecg ekg']\n"
   ]
  },
  {
   "cell_type": "code",
   "execution_count": 22,
   "metadata": {},
   "outputs": [],
   "source": [
    "def splitDataFrameIntoSmaller(df, chunkSize = 256): \n",
    "    listOfDf = list()\n",
    "    numberChunks = len(df) // chunkSize + 1\n",
    "    for i in range(numberChunks):\n",
    "        listOfDf.append(df[i*chunkSize:(i+1)*chunkSize])\n",
    "    return listOfDf"
   ]
  },
  {
   "cell_type": "code",
   "execution_count": 23,
   "metadata": {},
   "outputs": [],
   "source": [
    "def extract_features(df):\n",
    "    #load the data\n",
    "    X, y = df[cols].values, df['label'].values[0]\n",
    "    return(X, y)"
   ]
  },
  {
   "cell_type": "code",
   "execution_count": 26,
   "metadata": {},
   "outputs": [],
   "source": [
    "callback_arr = [callbacks.EarlyStopping(monitor='binary_accuracy',\n",
    "                                        verbose=1,\n",
    "                                        mode='min',\n",
    "                                        patience=3)]\n",
    "model = Sequential()\n",
    "model.add(LSTM(100, return_sequences = True, input_shape = (256, len(cols))))\n",
    "model.add(Dropout(0.2))\n",
    "model.add(LSTM(200, return_sequences = True))\n",
    "model.add(Dropout(0.2))\n",
    "model.add(LSTM(25))\n",
    "model.add(Dropout(0.2))\n",
    "model.add(Dense(1, activation='sigmoid'))\n",
    "model.compile(loss='binary_crossentropy', optimizer='adam', metrics=['binary_accuracy'])"
   ]
  },
  {
   "cell_type": "code",
   "execution_count": 27,
   "metadata": {},
   "outputs": [],
   "source": [
    "def train_model(file):\n",
    "    df_raw = pd.read_csv(file)\n",
    "    df_arr= splitDataFrameIntoSmaller(df_raw, chunkSize=256)\n",
    "    X = []\n",
    "    y = []\n",
    "    for df in df_arr:\n",
    "        try:\n",
    "            Xr,yr = extract_features(df)\n",
    "        #     X_scaled = TimeSeriesScalerMinMax().fit_transform(X.T)\n",
    "            X.append(Xr)\n",
    "            y.append(yr)\n",
    "        except:\n",
    "            pass\n",
    "    \n",
    "    #split into training and testing\n",
    "    X_train, X_test, y_train, y_test = train_test_split(\n",
    "        X, y, test_size=0.2,random_state=42)\n",
    "\n",
    "    X_train_res = np.asarray(X_train).reshape(len(X_train), 256, len(cols))\n",
    "    y_train = np.asarray(y_train)\n",
    "    X_test_res = np.asarray(X_test).reshape(len(X_test), 256, len(cols))\n",
    "    y_test = np.asarray(y_test)\n",
    "    \n",
    "    model.fit(X_train_res, y_train, validation_data=(X_test_res, y_test), epochs=10, callbacks=callback_arr)\n",
    "    \n",
    "    evaluate(X_train_res, y_train, X_test_res, y_test)\n",
    "    "
   ]
  },
  {
   "cell_type": "code",
   "execution_count": 29,
   "metadata": {},
   "outputs": [
    {
     "name": "stdout",
     "output_type": "stream",
     "text": [
      "['/wsu/home/groups/eeg/eeg-data/train/0.csv', '/wsu/home/groups/eeg/eeg-data/train/1.csv', '/wsu/home/groups/eeg/eeg-data/train/2.csv', '/wsu/home/groups/eeg/eeg-data/train/3.csv', '/wsu/home/groups/eeg/eeg-data/train/4.csv', '/wsu/home/groups/eeg/eeg-data/train/5.csv', '/wsu/home/groups/eeg/eeg-data/train/6.csv', '/wsu/home/groups/eeg/eeg-data/train/7.csv', '/wsu/home/groups/eeg/eeg-data/train/8.csv', '/wsu/home/groups/eeg/eeg-data/train/9.csv', '/wsu/home/groups/eeg/eeg-data/train/10.csv', '/wsu/home/groups/eeg/eeg-data/train/11.csv', '/wsu/home/groups/eeg/eeg-data/train/12.csv', '/wsu/home/groups/eeg/eeg-data/train/13.csv', '/wsu/home/groups/eeg/eeg-data/train/14.csv', '/wsu/home/groups/eeg/eeg-data/train/15.csv', '/wsu/home/groups/eeg/eeg-data/train/16.csv', '/wsu/home/groups/eeg/eeg-data/train/17.csv', '/wsu/home/groups/eeg/eeg-data/train/18.csv', '/wsu/home/groups/eeg/eeg-data/train/19.csv', '/wsu/home/groups/eeg/eeg-data/train/20.csv', '/wsu/home/groups/eeg/eeg-data/train/21.csv', '/wsu/home/groups/eeg/eeg-data/train/22.csv', '/wsu/home/groups/eeg/eeg-data/train/23.csv', '/wsu/home/groups/eeg/eeg-data/train/24.csv', '/wsu/home/groups/eeg/eeg-data/train/25.csv', '/wsu/home/groups/eeg/eeg-data/train/26.csv', '/wsu/home/groups/eeg/eeg-data/train/27.csv', '/wsu/home/groups/eeg/eeg-data/train/28.csv', '/wsu/home/groups/eeg/eeg-data/train/29.csv', '/wsu/home/groups/eeg/eeg-data/train/30.csv', '/wsu/home/groups/eeg/eeg-data/train/31.csv', '/wsu/home/groups/eeg/eeg-data/train/32.csv', '/wsu/home/groups/eeg/eeg-data/train/33.csv', '/wsu/home/groups/eeg/eeg-data/train/34.csv', '/wsu/home/groups/eeg/eeg-data/train/35.csv', '/wsu/home/groups/eeg/eeg-data/train/36.csv', '/wsu/home/groups/eeg/eeg-data/train/37.csv', '/wsu/home/groups/eeg/eeg-data/train/38.csv', '/wsu/home/groups/eeg/eeg-data/train/39.csv', '/wsu/home/groups/eeg/eeg-data/train/40.csv', '/wsu/home/groups/eeg/eeg-data/train/41.csv', '/wsu/home/groups/eeg/eeg-data/train/42.csv', '/wsu/home/groups/eeg/eeg-data/train/43.csv', '/wsu/home/groups/eeg/eeg-data/train/44.csv', '/wsu/home/groups/eeg/eeg-data/train/45.csv', '/wsu/home/groups/eeg/eeg-data/train/46.csv', '/wsu/home/groups/eeg/eeg-data/train/47.csv', '/wsu/home/groups/eeg/eeg-data/train/48.csv', '/wsu/home/groups/eeg/eeg-data/train/49.csv', '/wsu/home/groups/eeg/eeg-data/train/50.csv', '/wsu/home/groups/eeg/eeg-data/train/51.csv', '/wsu/home/groups/eeg/eeg-data/train/52.csv', '/wsu/home/groups/eeg/eeg-data/train/53.csv', '/wsu/home/groups/eeg/eeg-data/train/54.csv', '/wsu/home/groups/eeg/eeg-data/train/55.csv', '/wsu/home/groups/eeg/eeg-data/train/56.csv', '/wsu/home/groups/eeg/eeg-data/train/57.csv', '/wsu/home/groups/eeg/eeg-data/train/58.csv', '/wsu/home/groups/eeg/eeg-data/train/59.csv', '/wsu/home/groups/eeg/eeg-data/train/60.csv', '/wsu/home/groups/eeg/eeg-data/train/61.csv', '/wsu/home/groups/eeg/eeg-data/train/62.csv', '/wsu/home/groups/eeg/eeg-data/train/63.csv', '/wsu/home/groups/eeg/eeg-data/train/64.csv', '/wsu/home/groups/eeg/eeg-data/train/65.csv', '/wsu/home/groups/eeg/eeg-data/train/66.csv', '/wsu/home/groups/eeg/eeg-data/train/67.csv', '/wsu/home/groups/eeg/eeg-data/train/68.csv', '/wsu/home/groups/eeg/eeg-data/train/69.csv', '/wsu/home/groups/eeg/eeg-data/train/70.csv', '/wsu/home/groups/eeg/eeg-data/train/71.csv', '/wsu/home/groups/eeg/eeg-data/train/72.csv', '/wsu/home/groups/eeg/eeg-data/train/73.csv', '/wsu/home/groups/eeg/eeg-data/train/74.csv', '/wsu/home/groups/eeg/eeg-data/train/75.csv', '/wsu/home/groups/eeg/eeg-data/train/76.csv', '/wsu/home/groups/eeg/eeg-data/train/77.csv', '/wsu/home/groups/eeg/eeg-data/train/78.csv']\n"
     ]
    }
   ],
   "source": [
    "#get all the prepared csv files\n",
    "import glob\n",
    "filepath = \"/wsu/home/groups/eeg/eeg-data/train/*.csv\"\n",
    "files = glob.glob(filepath)\n",
    "print(files)"
   ]
  },
  {
   "cell_type": "code",
   "execution_count": null,
   "metadata": {},
   "outputs": [
    {
     "name": "stdout",
     "output_type": "stream",
     "text": [
      "/wsu/home/groups/eeg/eeg-data/train/0.csv\n",
      "Train on 5594 samples, validate on 1399 samples\n",
      "Epoch 1/100\n",
      "5594/5594 [==============================] - 84s 15ms/step - loss: 0.3534 - binary_accuracy: 0.8877 - val_loss: 0.3238 - val_binary_accuracy: 0.8971\n",
      "Epoch 2/100\n",
      "4448/5594 [======================>.......] - ETA: 15s - loss: 0.3218 - binary_accuracy: 0.8970"
     ]
    }
   ],
   "source": [
    "for file in sorted(files):\n",
    "    print(file)\n",
    "    train_model(file)"
   ]
  },
  {
   "cell_type": "code",
   "execution_count": null,
   "metadata": {},
   "outputs": [],
   "source": [
    "# serialize model to JSON\n",
    "model_json = model.to_json()\n",
    "with open(\"/wsu/home/groups/eeg/eeg-data/model/model.json\", \"w\") as json_file:\n",
    "    json_file.write(model_json)\n",
    "# serialize weights to HDF5\n",
    "model.save_weights(\"/wsu/home/groups/eeg/eeg-data/model/model.h5\")\n",
    "print(\"Saved model to disk\")"
   ]
  },
  {
   "cell_type": "code",
   "execution_count": 94,
   "metadata": {},
   "outputs": [],
   "source": [
    "def print_evaluation(y_sample, labels):\n",
    "    print(str(\"Accuracy: {}\").format(accuracy_score(y_sample, labels)))\n",
    "    print(str(\"Precision: {}\").format(precision_score(y_sample, labels)))\n",
    "    print(str(\"Recall: {}\").format(recall_score(y_sample, labels)))\n",
    "    print(str(\"F1-Score: {}\").format(f1_score(y_sample, labels)))\n",
    "    print(confusion_matrix(y_sample, labels))\n",
    "    print(\"\\n\")"
   ]
  },
  {
   "cell_type": "code",
   "execution_count": 11,
   "metadata": {},
   "outputs": [],
   "source": [
    "def evaluate(X_train_res, y_train, X_test_res, y_test):\n",
    "\n",
    "    #evaluate training\n",
    "    print(\"Training Results:\")\n",
    "    # y_trai = np.asarray(y_train)\n",
    "\n",
    "    y_pred = model.predict(X_train_res)\n",
    "    pred_label=[]\n",
    "    for elm in y_pred:\n",
    "        if elm[0]>0.5:\n",
    "            pred_label.append(1)\n",
    "        else:\n",
    "            pred_label.append(0)\n",
    "    print_evaluation(pred_label, y_train)\n",
    "    \n",
    "    #evalulate testing\n",
    "    print(\"Testing Results:\")\n",
    "    y_pred = model.predict(X_test_res)\n",
    "    pred_label=[]\n",
    "    for elm in y_pred:\n",
    "        if elm[0]>0.5:\n",
    "            pred_label.append(1)\n",
    "        else:\n",
    "            pred_label.append(0)\n",
    "\n",
    "    print_evaluation(pred_label, y_test)"
   ]
  },
  {
   "cell_type": "code",
   "execution_count": 97,
   "metadata": {},
   "outputs": [
    {
     "name": "stdout",
     "output_type": "stream",
     "text": [
      "Testing Results:\n",
      "Accuracy: 0.8870460394623964\n",
      "Precision: 0.27671232876712326\n",
      "Recall: 0.4353448275862069\n",
      "F1-Score: 0.338358458961474\n",
      "[[3001  264]\n",
      " [ 131  101]]\n",
      "\n",
      "\n"
     ]
    }
   ],
   "source": []
  },
  {
   "cell_type": "code",
   "execution_count": 99,
   "metadata": {},
   "outputs": [
    {
     "name": "stdout",
     "output_type": "stream",
     "text": [
      "Saved model to disk\n"
     ]
    }
   ],
   "source": [
    "# # serialize model to JSON\n",
    "# model_json = model.to_json()\n",
    "# with open(\"/wsu/home/groups/eeg/eeg-data/model/model.json\", \"w\") as json_file:\n",
    "#     json_file.write(model_json)\n",
    "# # serialize weights to HDF5\n",
    "# model.save_weights(\"/wsu/home/groups/eeg/eeg-data/model/model.h5\")\n",
    "# print(\"Saved model to disk\")"
   ]
  },
  {
   "cell_type": "code",
   "execution_count": 154,
   "metadata": {},
   "outputs": [
    {
     "data": {
      "text/plain": [
       "19"
      ]
     },
     "execution_count": 154,
     "metadata": {},
     "output_type": "execute_result"
    }
   ],
   "source": [
    "# len(X_train[0][0])"
   ]
  },
  {
   "cell_type": "code",
   "execution_count": 12,
   "metadata": {},
   "outputs": [
    {
     "ename": "NameError",
     "evalue": "name 'X_train_res' is not defined",
     "output_type": "error",
     "traceback": [
      "\u001b[0;31m---------------------------------------------------------------------------\u001b[0m",
      "\u001b[0;31mNameError\u001b[0m                                 Traceback (most recent call last)",
      "\u001b[0;32m<ipython-input-12-8f63df7974f0>\u001b[0m in \u001b[0;36m<module>\u001b[0;34m\u001b[0m\n\u001b[0;32m----> 1\u001b[0;31m \u001b[0mevaluate\u001b[0m\u001b[0;34m(\u001b[0m\u001b[0mX_train_res\u001b[0m\u001b[0;34m,\u001b[0m \u001b[0my_train\u001b[0m\u001b[0;34m,\u001b[0m \u001b[0mX_test_res\u001b[0m\u001b[0;34m,\u001b[0m \u001b[0my_test\u001b[0m\u001b[0;34m)\u001b[0m\u001b[0;34m\u001b[0m\u001b[0;34m\u001b[0m\u001b[0m\n\u001b[0m",
      "\u001b[0;31mNameError\u001b[0m: name 'X_train_res' is not defined"
     ]
    }
   ],
   "source": [
    "evaluate(X_train_res, y_train, X_test_res, y_test)"
   ]
  },
  {
   "cell_type": "code",
   "execution_count": null,
   "metadata": {},
   "outputs": [],
   "source": []
  }
 ],
 "metadata": {
  "kernelspec": {
   "display_name": "Python 3",
   "language": "python",
   "name": "python3"
  },
  "language_info": {
   "codemirror_mode": {
    "name": "ipython",
    "version": 3
   },
   "file_extension": ".py",
   "mimetype": "text/x-python",
   "name": "python",
   "nbconvert_exporter": "python",
   "pygments_lexer": "ipython3",
   "version": "3.7.3"
  }
 },
 "nbformat": 4,
 "nbformat_minor": 4
}
