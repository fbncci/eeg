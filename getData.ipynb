{
 "cells": [
  {
   "cell_type": "code",
   "execution_count": 17,
   "metadata": {},
   "outputs": [
    {
     "name": "stdout",
     "output_type": "stream",
     "text": [
      "Defaulting to user installation because normal site-packages is not writeable\n",
      "Collecting requests\n",
      "  Downloading requests-2.23.0-py2.py3-none-any.whl (58 kB)\n",
      "\u001b[K     |████████████████████████████████| 58 kB 1.3 MB/s eta 0:00:011\n",
      "\u001b[?25hCollecting urllib3!=1.25.0,!=1.25.1,<1.26,>=1.21.1\n",
      "  Downloading urllib3-1.25.9-py2.py3-none-any.whl (126 kB)\n",
      "\u001b[K     |████████████████████████████████| 126 kB 10.3 MB/s eta 0:00:01\n",
      "\u001b[?25hCollecting chardet<4,>=3.0.2\n",
      "  Downloading chardet-3.0.4-py2.py3-none-any.whl (133 kB)\n",
      "\u001b[K     |████████████████████████████████| 133 kB 29.0 MB/s eta 0:00:01\n",
      "\u001b[?25hRequirement already satisfied: certifi>=2017.4.17 in /wsu/el7/pre-compiled/python/3.7/envs/pyspark/lib/python3.7/site-packages (from requests) (2020.4.5.1)\n",
      "Collecting idna<3,>=2.5\n",
      "  Downloading idna-2.9-py2.py3-none-any.whl (58 kB)\n",
      "\u001b[K     |████████████████████████████████| 58 kB 1.5 MB/s  eta 0:00:01\n",
      "\u001b[?25hInstalling collected packages: urllib3, chardet, idna, requests\n",
      "\u001b[33m  WARNING: The script chardetect is installed in '/wsu/home/el/el85/el8550/.local/bin' which is not on PATH.\n",
      "  Consider adding this directory to PATH or, if you prefer to suppress this warning, use --no-warn-script-location.\u001b[0m\n",
      "Successfully installed chardet-3.0.4 idna-2.9 requests-2.23.0 urllib3-1.25.9\n",
      "Note: you may need to restart the kernel to use updated packages.\n"
     ]
    }
   ],
   "source": [
    "# %pip install requests"
   ]
  },
  {
   "cell_type": "code",
   "execution_count": 5,
   "metadata": {},
   "outputs": [],
   "source": [
    "import requests"
   ]
  },
  {
   "cell_type": "code",
   "execution_count": 6,
   "metadata": {},
   "outputs": [
    {
     "name": "stdout",
     "output_type": "stream",
     "text": [
      "https://zenodo.org/record/2547147/files/eeg1.edf?download=1\n",
      "https://zenodo.org/record/2547147/files/eeg2.edf?download=1\n",
      "https://zenodo.org/record/2547147/files/eeg3.edf?download=1\n",
      "https://zenodo.org/record/2547147/files/eeg4.edf?download=1\n",
      "https://zenodo.org/record/2547147/files/eeg5.edf?download=1\n",
      "https://zenodo.org/record/2547147/files/eeg6.edf?download=1\n",
      "https://zenodo.org/record/2547147/files/eeg7.edf?download=1\n",
      "https://zenodo.org/record/2547147/files/eeg8.edf?download=1\n",
      "https://zenodo.org/record/2547147/files/eeg9.edf?download=1\n",
      "https://zenodo.org/record/2547147/files/eeg10.edf?download=1\n",
      "https://zenodo.org/record/2547147/files/eeg11.edf?download=1\n",
      "https://zenodo.org/record/2547147/files/eeg12.edf?download=1\n",
      "https://zenodo.org/record/2547147/files/eeg13.edf?download=1\n",
      "https://zenodo.org/record/2547147/files/eeg14.edf?download=1\n",
      "https://zenodo.org/record/2547147/files/eeg15.edf?download=1\n",
      "https://zenodo.org/record/2547147/files/eeg16.edf?download=1\n",
      "https://zenodo.org/record/2547147/files/eeg17.edf?download=1\n",
      "https://zenodo.org/record/2547147/files/eeg18.edf?download=1\n",
      "https://zenodo.org/record/2547147/files/eeg19.edf?download=1\n",
      "https://zenodo.org/record/2547147/files/eeg20.edf?download=1\n",
      "https://zenodo.org/record/2547147/files/eeg21.edf?download=1\n",
      "https://zenodo.org/record/2547147/files/eeg22.edf?download=1\n",
      "https://zenodo.org/record/2547147/files/eeg23.edf?download=1\n",
      "https://zenodo.org/record/2547147/files/eeg24.edf?download=1\n",
      "https://zenodo.org/record/2547147/files/eeg25.edf?download=1\n",
      "https://zenodo.org/record/2547147/files/eeg26.edf?download=1\n",
      "https://zenodo.org/record/2547147/files/eeg27.edf?download=1\n",
      "https://zenodo.org/record/2547147/files/eeg28.edf?download=1\n",
      "https://zenodo.org/record/2547147/files/eeg29.edf?download=1\n",
      "https://zenodo.org/record/2547147/files/eeg30.edf?download=1\n",
      "https://zenodo.org/record/2547147/files/eeg31.edf?download=1\n",
      "https://zenodo.org/record/2547147/files/eeg32.edf?download=1\n",
      "https://zenodo.org/record/2547147/files/eeg33.edf?download=1\n",
      "https://zenodo.org/record/2547147/files/eeg34.edf?download=1\n",
      "https://zenodo.org/record/2547147/files/eeg35.edf?download=1\n",
      "https://zenodo.org/record/2547147/files/eeg36.edf?download=1\n",
      "https://zenodo.org/record/2547147/files/eeg37.edf?download=1\n",
      "https://zenodo.org/record/2547147/files/eeg38.edf?download=1\n",
      "https://zenodo.org/record/2547147/files/eeg39.edf?download=1\n",
      "https://zenodo.org/record/2547147/files/eeg40.edf?download=1\n",
      "https://zenodo.org/record/2547147/files/eeg41.edf?download=1\n",
      "https://zenodo.org/record/2547147/files/eeg42.edf?download=1\n",
      "https://zenodo.org/record/2547147/files/eeg43.edf?download=1\n",
      "https://zenodo.org/record/2547147/files/eeg44.edf?download=1\n",
      "https://zenodo.org/record/2547147/files/eeg45.edf?download=1\n",
      "https://zenodo.org/record/2547147/files/eeg46.edf?download=1\n",
      "https://zenodo.org/record/2547147/files/eeg47.edf?download=1\n",
      "https://zenodo.org/record/2547147/files/eeg48.edf?download=1\n",
      "https://zenodo.org/record/2547147/files/eeg49.edf?download=1\n",
      "https://zenodo.org/record/2547147/files/eeg50.edf?download=1\n",
      "https://zenodo.org/record/2547147/files/eeg51.edf?download=1\n",
      "https://zenodo.org/record/2547147/files/eeg52.edf?download=1\n",
      "https://zenodo.org/record/2547147/files/eeg53.edf?download=1\n",
      "https://zenodo.org/record/2547147/files/eeg54.edf?download=1\n",
      "https://zenodo.org/record/2547147/files/eeg55.edf?download=1\n",
      "https://zenodo.org/record/2547147/files/eeg56.edf?download=1\n",
      "https://zenodo.org/record/2547147/files/eeg57.edf?download=1\n",
      "https://zenodo.org/record/2547147/files/eeg58.edf?download=1\n",
      "https://zenodo.org/record/2547147/files/eeg59.edf?download=1\n",
      "https://zenodo.org/record/2547147/files/eeg60.edf?download=1\n",
      "https://zenodo.org/record/2547147/files/eeg61.edf?download=1\n",
      "https://zenodo.org/record/2547147/files/eeg62.edf?download=1\n",
      "https://zenodo.org/record/2547147/files/eeg63.edf?download=1\n",
      "https://zenodo.org/record/2547147/files/eeg64.edf?download=1\n",
      "https://zenodo.org/record/2547147/files/eeg65.edf?download=1\n",
      "https://zenodo.org/record/2547147/files/eeg66.edf?download=1\n",
      "https://zenodo.org/record/2547147/files/eeg67.edf?download=1\n",
      "https://zenodo.org/record/2547147/files/eeg68.edf?download=1\n",
      "https://zenodo.org/record/2547147/files/eeg69.edf?download=1\n",
      "https://zenodo.org/record/2547147/files/eeg70.edf?download=1\n",
      "https://zenodo.org/record/2547147/files/eeg71.edf?download=1\n",
      "https://zenodo.org/record/2547147/files/eeg72.edf?download=1\n",
      "https://zenodo.org/record/2547147/files/eeg73.edf?download=1\n",
      "https://zenodo.org/record/2547147/files/eeg74.edf?download=1\n",
      "https://zenodo.org/record/2547147/files/eeg75.edf?download=1\n",
      "https://zenodo.org/record/2547147/files/eeg76.edf?download=1\n",
      "https://zenodo.org/record/2547147/files/eeg77.edf?download=1\n",
      "https://zenodo.org/record/2547147/files/eeg78.edf?download=1\n",
      "https://zenodo.org/record/2547147/files/eeg79.edf?download=1\n"
     ]
    }
   ],
   "source": [
    "#download the csv files\n",
    "url = \"https://zenodo.org/record/2547147/files/eeg#.edf?download=1\"\n",
    "for i in range(1,80):\n",
    "    this_url = url.replace(\"#\", str(i))\n",
    "    print(this_url)\n",
    "    r = requests.get(this_url)\n",
    "    file = open(\"/wsu/home/groups/eeg/eeg-data/download/eeg\"+str(i)+\".edf\", 'wb').write(r.content)"
   ]
  }
 ],
 "metadata": {
  "kernelspec": {
   "display_name": "Python (pyspark)",
   "language": "python",
   "name": "pyspark"
  },
  "language_info": {
   "codemirror_mode": {
    "name": "ipython",
    "version": 3
   },
   "file_extension": ".py",
   "mimetype": "text/x-python",
   "name": "python",
   "nbconvert_exporter": "python",
   "pygments_lexer": "ipython3",
   "version": "3.7.7"
  }
 },
 "nbformat": 4,
 "nbformat_minor": 2
}
