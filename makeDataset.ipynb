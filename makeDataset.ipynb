{
 "cells": [
  {
   "cell_type": "code",
   "execution_count": 66,
   "metadata": {},
   "outputs": [],
   "source": [
    "import pandas as pd\n",
    "import matplotlib.pyplot as plt\n",
    "import numpy as np\n",
    "import glob\n",
    "from sklearn.model_selection import train_test_split"
   ]
  },
  {
   "cell_type": "code",
   "execution_count": 69,
   "metadata": {},
   "outputs": [
    {
     "name": "stdout",
     "output_type": "stream",
     "text": [
      "eeg1.csv\n",
      "eeg10.csv\n",
      "eeg11.csv\n",
      "eeg12.csv\n",
      "eeg13.csv\n",
      "eeg14.csv\n",
      "eeg15.csv\n",
      "eeg16.csv\n",
      "eeg17.csv\n",
      "eeg18.csv\n",
      "eeg19.csv\n",
      "eeg2.csv\n",
      "eeg20.csv\n",
      "eeg21.csv\n",
      "eeg22.csv\n",
      "eeg23.csv\n",
      "eeg24.csv\n",
      "eeg25.csv\n",
      "eeg26.csv\n",
      "eeg27.csv\n",
      "eeg28.csv\n",
      "eeg29.csv\n",
      "eeg3.csv\n",
      "eeg30.csv\n",
      "eeg31.csv\n",
      "eeg32.csv\n",
      "eeg33.csv\n",
      "eeg34.csv\n",
      "eeg35.csv\n",
      "eeg36.csv\n",
      "eeg37.csv\n",
      "eeg38.csv\n",
      "eeg39.csv\n",
      "eeg4.csv\n",
      "eeg40.csv\n",
      "eeg41.csv\n",
      "eeg42.csv\n",
      "eeg43.csv\n",
      "eeg44.csv\n",
      "eeg45.csv\n",
      "eeg46.csv\n",
      "eeg47.csv\n",
      "eeg48.csv\n",
      "eeg49.csv\n",
      "eeg5.csv\n",
      "eeg50.csv\n",
      "eeg51.csv\n",
      "eeg52.csv\n",
      "eeg53.csv\n",
      "eeg54.csv\n",
      "eeg55.csv\n",
      "eeg56.csv\n",
      "eeg57.csv\n",
      "eeg58.csv\n",
      "eeg59.csv\n",
      "eeg6.csv\n",
      "eeg60.csv\n",
      "eeg61.csv\n"
     ]
    }
   ],
   "source": [
    "#just use one csv as an example\n",
    "filepath = \"/wsu/home/groups/eeg/eeg-data/csv/eeg*.csv\"\n",
    "files = glob.glob(filepath)\n",
    "file = files[0]\n",
    "for file in sorted(files):\n",
    "    print(file.split(\"/\")[-1])"
   ]
  },
  {
   "cell_type": "code",
   "execution_count": 70,
   "metadata": {},
   "outputs": [
    {
     "name": "stdout",
     "output_type": "stream",
     "text": [
      "Index(['time', 'EEG Fp1-Ref', 'EEG Fp2-Ref', 'EEG F3-Ref', 'EEG F4-Ref',\n",
      "       'EEG F7-Ref', 'EEG F8-Ref', 'EEG Fz-Ref', 'EEG C3-Ref', 'EEG C4-Ref',\n",
      "       'EEG Cz-Ref', 'EEG T3-Ref', 'EEG T5-Ref', 'EEG T4-Ref', 'EEG T6-Ref',\n",
      "       'EEG P3-Ref', 'EEG P4-Ref', 'EEG Pz-Ref', 'EEG O1-Ref', 'EEG O2-Ref',\n",
      "       'ECG EKG', 'Resp Effort', 'label_0', 'label_1', 'label_2'],\n",
      "      dtype='object')\n"
     ]
    }
   ],
   "source": [
    "#get column information\n",
    "df = pd.read_csv(file)\n",
    "print(df.columns)\n",
    "info_cols = [\"time\", \"label_0\", \"label_1\", \"label_2\", \"Resp Effort-REF\", \"ECG EKG-REF\"]\n",
    "label_col = [\"label_0\", \"label_1\", \"label_2\"]\n",
    "data_cols = list(set(df.columns).difference(info_cols))\n",
    "cols = df[data_cols].columns"
   ]
  },
  {
   "cell_type": "code",
   "execution_count": 35,
   "metadata": {},
   "outputs": [],
   "source": [
    "#function to process the csv files and extract the labeled sequences\n",
    "def process_data(file):\n",
    "    try:\n",
    "        #load dataframe and set index\n",
    "        df = pd.read_csv(file)\n",
    "        df.columns = ['time', 'EEG Fp1-REF', 'EEG Fp2-REF', 'EEG F3-REF', 'EEG F4-REF',\n",
    "       'EEG C3-REF', 'EEG C4-REF', 'EEG P3-REF', 'EEG P4-REF', 'EEG O1-REF',\n",
    "       'EEG O2-REF', 'EEG F7-REF', 'EEG F8-REF', 'EEG T3-REF', 'EEG T4-REF',\n",
    "       'EEG T5-REF', 'EEG T6-REF', 'EEG Fz-REF', 'EEG Cz-REF', 'EEG Pz-REF',\n",
    "       'ECG EKG-REF', 'Resp Effort-REF', 'label_0', 'label_1', 'label_2']\n",
    "        \n",
    "        df.set_index(\"time\", inplace=True)\n",
    "        df.index = df.index.astype(\"timedelta64[ns]\")\n",
    "\n",
    "        #extract numpy arrays\n",
    "        X = df[data_cols].values\n",
    "        y = df[label_col].values\n",
    "\n",
    "        #find find where all annotations agree and make new column for label\n",
    "        max_val = []\n",
    "        labels = []\n",
    "        for row in X:\n",
    "            max_val.append(max(row))\n",
    "\n",
    "        for row in y:\n",
    "            if sum(row) == 3:\n",
    "                labels.append(1)\n",
    "            else:\n",
    "                labels.append(0)\n",
    "        df['label'] = labels\n",
    "        df['max'] = max_val\n",
    "\n",
    "        X = df[data_cols].values\n",
    "        y = df.label.values\n",
    "        \n",
    "        #extract discrete sequences of data labeled as 1s and 0s\n",
    "        state = 0\n",
    "        seq = []\n",
    "        master = []\n",
    "        labels = []\n",
    "        for feature,label in zip(X,y):\n",
    "            if label==state:\n",
    "                seq.append(feature)\n",
    "            else:\n",
    "                if state==0:\n",
    "                    master.append(seq)\n",
    "                    labels.append(state)\n",
    "                else:\n",
    "                    master.append(seq)\n",
    "                    labels.append(state)\n",
    "                state = label\n",
    "                seq = []\n",
    "\n",
    "        #only keep sequences equal to or greater than 10 seconds in length\n",
    "        X = []\n",
    "        y = []\n",
    "        for seq,label in zip(master, labels):\n",
    "            seconds = len(seq)//1000\n",
    "            if seconds>=10:\n",
    "                X.append(seq)\n",
    "                y.append(label)\n",
    "\n",
    "        X = np.array(X)\n",
    "        y = np.array(y)\n",
    "\n",
    "        return(X, y)\n",
    "    except Exception as e:\n",
    "        print(str(\"ERROR WITH FILE {}, {}\").format(file, e))\n",
    "        "
   ]
  },
  {
   "cell_type": "code",
   "execution_count": 37,
   "metadata": {},
   "outputs": [],
   "source": [
    "#test with one file\n",
    "X1,y1 = process_data(files[0])"
   ]
  },
  {
   "cell_type": "code",
   "execution_count": 38,
   "metadata": {},
   "outputs": [
    {
     "name": "stdout",
     "output_type": "stream",
     "text": [
      "skipping /wsu/home/groups/eeg/eeg-data/csv/eeg1.csv, already processed in the cell above\n",
      "/wsu/home/groups/eeg/eeg-data/csv/eeg10.csv\n",
      "/wsu/home/groups/eeg/eeg-data/csv/eeg11.csv\n",
      "/wsu/home/groups/eeg/eeg-data/csv/eeg12.csv\n",
      "/wsu/home/groups/eeg/eeg-data/csv/eeg13.csv\n",
      "/wsu/home/groups/eeg/eeg-data/csv/eeg14.csv\n",
      "/wsu/home/groups/eeg/eeg-data/csv/eeg15.csv\n",
      "/wsu/home/groups/eeg/eeg-data/csv/eeg16.csv\n",
      "/wsu/home/groups/eeg/eeg-data/csv/eeg17.csv\n"
     ]
    }
   ],
   "source": [
    "#process all the files and concatenate the result to a master array\n",
    "X_master, y_master = X1,y1\n",
    "for f in files:\n",
    "    if f == file:\n",
    "        print(str(\"skipping {}, already processed in the cell above\").format(f))\n",
    "    else:\n",
    "        try:\n",
    "            print(f)\n",
    "            X,y = process_data(f)\n",
    "            X_master = np.concatenate((X, X_master), axis=0)\n",
    "            y_master = np.concatenate((y, y_master), axis=0)\n",
    "        except TypeError:\n",
    "            print(\"error with file \", f)"
   ]
  },
  {
   "cell_type": "code",
   "execution_count": 54,
   "metadata": {},
   "outputs": [],
   "source": [
    "#split array into 10 second chunks\n",
    "X,y = [],[]\n",
    "for feature,label in zip(X_master,y_master):\n",
    "    x_ = np.array_split(feature, 10*256) #10 second chunks\n",
    "    for elm in x_:\n",
    "        X.append(elm)\n",
    "        y.append(label)"
   ]
  },
  {
   "cell_type": "code",
   "execution_count": 61,
   "metadata": {},
   "outputs": [],
   "source": [
    "#split into training and testing data\n",
    "X_train, X_test, y_train, y_test = train_test_split(X, y, test_size=0.33, random_state=42)"
   ]
  },
  {
   "cell_type": "code",
   "execution_count": 65,
   "metadata": {},
   "outputs": [],
   "source": [
    "#save numpy array to disk\n",
    "np.save(\"data/X_train.npy\", X_train)\n",
    "np.save(\"data/y_train.npy\", y_train)\n",
    "np.save(\"data/X_test.npy\", X_test)\n",
    "np.save(\"data/y_test.npy\", y_test)"
   ]
  }
 ],
 "metadata": {
  "kernelspec": {
   "display_name": "Python (pyspark)",
   "language": "python",
   "name": "pyspark"
  },
  "language_info": {
   "codemirror_mode": {
    "name": "ipython",
    "version": 3
   },
   "file_extension": ".py",
   "mimetype": "text/x-python",
   "name": "python",
   "nbconvert_exporter": "python",
   "pygments_lexer": "ipython3",
   "version": "3.7.7"
  }
 },
 "nbformat": 4,
 "nbformat_minor": 2
}
