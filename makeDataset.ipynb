{
 "cells": [
  {
   "cell_type": "code",
   "execution_count": 1,
   "metadata": {},
   "outputs": [],
   "source": [
    "import pandas as pd\n",
    "import matplotlib.pyplot as plt\n",
    "import numpy as np\n",
    "import glob\n",
    "import copy\n",
    "import os\n",
    "from sklearn.model_selection import train_test_split"
   ]
  },
  {
   "cell_type": "code",
   "execution_count": 2,
   "metadata": {},
   "outputs": [
    {
     "name": "stdout",
     "output_type": "stream",
     "text": [
      "eeg1.csv\n",
      "eeg10.csv\n",
      "eeg11.csv\n",
      "eeg12.csv\n",
      "eeg13.csv\n",
      "eeg14.csv\n",
      "eeg15.csv\n",
      "eeg16.csv\n",
      "eeg17.csv\n",
      "eeg18.csv\n",
      "eeg19.csv\n",
      "eeg2.csv\n",
      "eeg20.csv\n",
      "eeg21.csv\n",
      "eeg22.csv\n",
      "eeg23.csv\n",
      "eeg24.csv\n",
      "eeg25.csv\n",
      "eeg26.csv\n",
      "eeg27.csv\n",
      "eeg28.csv\n",
      "eeg29.csv\n",
      "eeg3.csv\n",
      "eeg30.csv\n",
      "eeg31.csv\n",
      "eeg32.csv\n",
      "eeg33.csv\n",
      "eeg34.csv\n",
      "eeg35.csv\n",
      "eeg36.csv\n",
      "eeg37.csv\n",
      "eeg38.csv\n",
      "eeg39.csv\n",
      "eeg4.csv\n",
      "eeg40.csv\n",
      "eeg41.csv\n",
      "eeg42.csv\n",
      "eeg43.csv\n",
      "eeg44.csv\n",
      "eeg45.csv\n",
      "eeg46.csv\n",
      "eeg47.csv\n",
      "eeg48.csv\n",
      "eeg49.csv\n",
      "eeg5.csv\n",
      "eeg50.csv\n",
      "eeg51.csv\n",
      "eeg52.csv\n",
      "eeg53.csv\n",
      "eeg54.csv\n",
      "eeg55.csv\n",
      "eeg56.csv\n",
      "eeg57.csv\n",
      "eeg58.csv\n",
      "eeg59.csv\n",
      "eeg6.csv\n",
      "eeg60.csv\n",
      "eeg61.csv\n",
      "eeg62.csv\n",
      "eeg63.csv\n",
      "eeg64.csv\n",
      "eeg65.csv\n",
      "eeg66.csv\n",
      "eeg67.csv\n",
      "eeg68.csv\n",
      "eeg69.csv\n",
      "eeg7.csv\n",
      "eeg70.csv\n",
      "eeg71.csv\n",
      "eeg72.csv\n",
      "eeg73.csv\n",
      "eeg74.csv\n",
      "eeg75.csv\n",
      "eeg76.csv\n",
      "eeg77.csv\n",
      "eeg78.csv\n",
      "eeg79.csv\n",
      "eeg8.csv\n",
      "eeg9.csv\n"
     ]
    }
   ],
   "source": [
    "#just use one csv as an example\n",
    "filepath = \"/wsu/home/groups/eeg/eeg-data/csv/eeg*.csv\"\n",
    "files = glob.glob(filepath)\n",
    "file = files[0]\n",
    "for file in sorted(files):\n",
    "    print(file.split(\"/\")[-1])"
   ]
  },
  {
   "cell_type": "code",
   "execution_count": 4,
   "metadata": {},
   "outputs": [
    {
     "name": "stdout",
     "output_type": "stream",
     "text": [
      "Index(['ecg ekg', 'eeg c3', 'eeg c4', 'eeg cz', 'eeg f3', 'eeg f4', 'eeg f7',\n",
      "       'eeg f8', 'eeg fp1', 'eeg fp2', 'eeg fz', 'eeg o1', 'eeg o2', 'eeg p3',\n",
      "       'eeg p4', 'eeg pz', 'eeg t3', 'eeg t4', 'eeg t5', 'eeg t6', 'label_0',\n",
      "       'label_1', 'label_2', 'resp effort', 'time'],\n",
      "      dtype='object')\n"
     ]
    }
   ],
   "source": [
    "#get column information\n",
    "df = pd.read_csv(file)\n",
    "\n",
    "df.columns = df.columns.str.lower()\n",
    "df.columns = df.columns.str.replace(\"-ref\", \"\")\n",
    "df = df.reindex(sorted(df.columns), axis=1)\n",
    "print(df.columns)\n",
    "\n",
    "info_cols = [\"time\", \"label_0\", \"label_1\", \"label_2\", \"resp effort\", \"ecg ekg\"]\n",
    "label_col = [\"label_0\", \"label_1\", \"label_2\"]\n",
    "data_cols = list(set(df.columns).difference(info_cols))\n",
    "cols = df[data_cols].columns"
   ]
  },
  {
   "cell_type": "code",
   "execution_count": 15,
   "metadata": {},
   "outputs": [
    {
     "name": "stdout",
     "output_type": "stream",
     "text": [
      "Index(['ecg ekg', 'eeg c3', 'eeg c4', 'eeg cz', 'eeg f3', 'eeg f4', 'eeg f7',\n",
      "       'eeg f8', 'eeg fp1', 'eeg fp2', 'eeg fz', 'eeg o1', 'eeg o2', 'eeg p3',\n",
      "       'eeg p4', 'eeg pz', 'eeg t3', 'eeg t4', 'eeg t5', 'eeg t6', 'label_0',\n",
      "       'label_1', 'label_2', 'resp effort', 'time'],\n",
      "      dtype='object')\n"
     ]
    }
   ],
   "source": [
    "# df2 = pd.read_csv(files[4])\n",
    "df2.columns = df2.columns.str.lower()\n",
    "df2.columns = df2.columns.str.replace(\"-ref\", \"\")\n",
    "df2 = df2.reindex(sorted(df.columns), axis=1)\n",
    "print(df2.columns)"
   ]
  },
  {
   "cell_type": "code",
   "execution_count": 13,
   "metadata": {},
   "outputs": [
    {
     "name": "stdout",
     "output_type": "stream",
     "text": [
      "[]\n",
      "['eeg c3', 'eeg c4', 'eeg cz', 'eeg f3', 'eeg f4', 'eeg f7', 'eeg f8', 'eeg fp1', 'eeg fp2', 'eeg fz', 'eeg o1', 'eeg o2', 'eeg p3', 'eeg p4', 'eeg pz', 'eeg t3', 'eeg t4', 'eeg t5', 'eeg t6']\n"
     ]
    }
   ],
   "source": [
    "print(list(set(df.columns).difference(df2.columns)))\n",
    "print(sorted(data_cols))"
   ]
  },
  {
   "cell_type": "code",
   "execution_count": 5,
   "metadata": {},
   "outputs": [],
   "source": [
    "#function to process the csv files and extract the labeled sequences\n",
    "counter = 0\n",
    "def process_data(file):\n",
    "    global counter\n",
    "    try:\n",
    "        #load dataframe and set index\n",
    "        df = pd.read_csv(file)\n",
    "        df.columns = df.columns.str.lower()\n",
    "        df.columns = df.columns.str.replace(\"-ref\", \"\")\n",
    "        df = df.reindex(sorted(df.columns), axis=1)\n",
    "        \n",
    "#         df.set_index(\"time\", inplace=True)\n",
    "#         df.index = df.index.astype(\"timedelta64[ns]\")\n",
    "        print(df.columns)\n",
    "\n",
    "        #extract numpy arrays\n",
    "        yt = df[label_col].values\n",
    "\n",
    "        #find find where all annotations agree and make new column for label\n",
    "        labels = []\n",
    "        for row in yt:\n",
    "            if sum(row) == 3:\n",
    "                labels.append(1)\n",
    "            else:\n",
    "                labels.append(0)\n",
    "        df['label'] = np.array(labels)\n",
    "\n",
    "        Xt = df[data_cols].values\n",
    "        #break up into 1 second chunks\n",
    "        X = [Xt[i:i + 256] for i in range(0, len(Xt), 256)]\n",
    "        y = df.label.values\n",
    "        \n",
    "        #extract discrete sequences of data labeled as 1s and 0s\n",
    "        state = 0\n",
    "        seq = []\n",
    "        master = []\n",
    "        labels = []\n",
    "        bdf = pd.DataFrame(columns=data_cols)\n",
    "        for feature,label in zip(X, y):\n",
    "            labels.append(label)\n",
    "            if len(feature) == 256:\n",
    "                df = pd.DataFrame(feature, columns=data_cols)\n",
    "                print(df.head())\n",
    "                df['label'] = label\n",
    "                df['id'] = counter\n",
    "                bdf = pd.concat([df, bdf], join=\"inner\", ignore_index=True)\n",
    "                counter += 1\n",
    "        return bdf\n",
    "    except Exception as e:\n",
    "        print(str(\"ERROR WITH FILE {}, {}\").format(file, e))\n",
    "        "
   ]
  },
  {
   "cell_type": "code",
   "execution_count": null,
   "metadata": {
    "scrolled": true
   },
   "outputs": [
    {
     "name": "stdout",
     "output_type": "stream",
     "text": [
      "Index(['ecg ekg', 'eeg c3', 'eeg c4', 'eeg cz', 'eeg f3', 'eeg f4', 'eeg f7',\n",
      "       'eeg f8', 'eeg fp1', 'eeg fp2', 'eeg fz', 'eeg o1', 'eeg o2', 'eeg p3',\n",
      "       'eeg p4', 'eeg pz', 'eeg t3', 'eeg t4', 'eeg t5', 'eeg t6', 'label_0',\n",
      "       'label_1', 'label_2', 'resp effort', 'time'],\n",
      "      dtype='object')\n"
     ]
    }
   ],
   "source": [
    "#test with one file\n",
    "df = process_data(files[0])\n",
    "print(df.head())\n",
    "print(df.tail())"
   ]
  },
  {
   "cell_type": "code",
   "execution_count": null,
   "metadata": {},
   "outputs": [
    {
     "name": "stdout",
     "output_type": "stream",
     "text": [
      "/wsu/home/groups/eeg/eeg-data/csv/eeg1.csv\n"
     ]
    }
   ],
   "source": [
    "#process all the files and concatenate the result to a master array\n",
    "df = pd.DataFrame(columns=data_cols)\n",
    "for f in files:\n",
    "    try:\n",
    "        print(f)\n",
    "        bdf = process_data(f)\n",
    "        pd.concat([df, bdf], axis=1)\n",
    "    except TypeError:\n",
    "        print(\"error with file \", f)"
   ]
  },
  {
   "cell_type": "code",
   "execution_count": 61,
   "metadata": {},
   "outputs": [],
   "source": [
    "#split into training and testing data\n",
    "X_train, X_test, y_train, y_test = train_test_split(X, y, test_size=0.33, random_state=42)"
   ]
  },
  {
   "cell_type": "code",
   "execution_count": 65,
   "metadata": {},
   "outputs": [],
   "source": [
    "#save numpy array to disk\n",
    "np.save(\"data/X_train.npy\", X_train)\n",
    "np.save(\"data/y_train.npy\", y_train)\n",
    "np.save(\"data/X_test.npy\", X_test)\n",
    "np.save(\"data/y_test.npy\", y_test)"
   ]
  },
  {
   "cell_type": "code",
   "execution_count": null,
   "metadata": {},
   "outputs": [],
   "source": [
    "pd.DataFrame(X_train).to_csv(\"data/X_train.csv\")\n",
    "pd.DataFrame(y_train).to_csv(\"data/y_train.csv\")\n",
    "pd.DataFrame(X_test).to_csv(\"data/X_test.csv\")\n",
    "pd.DataFrame(y_test).to_csv(\"data/y_test.csv\")"
   ]
  },
  {
   "cell_type": "code",
   "execution_count": 38,
   "metadata": {},
   "outputs": [
    {
     "name": "stdout",
     "output_type": "stream",
     "text": [
      "Empty DataFrame\n",
      "Columns: [eeg c3, eeg f8, eeg f4, eeg cz, eeg pz, eeg f3, eeg p4, eeg fp2, eeg o1, eeg t6, eeg o2, eeg fp1, eeg fz, eeg t3, eeg f7, eeg c4, eeg t5, eeg t4, eeg p3]\n",
      "Index: []\n"
     ]
    }
   ],
   "source": [
    "print(counter)"
   ]
  },
  {
   "cell_type": "code",
   "execution_count": null,
   "metadata": {},
   "outputs": [],
   "source": [
    "#function to process the csv files and extract the labeled sequences\n",
    "def process_data(file, counter):\n",
    "    try:\n",
    "        #load dataframe and set index\n",
    "        df = pd.read_csv(file)\n",
    "        df.columns = df.columns.str.lower()\n",
    "        df.columns = df.columns.str.replace(\"-ref\", \"\")\n",
    "        \n",
    "#         df.set_index(\"time\", inplace=True)\n",
    "#         df.index = df.index.astype(\"timedelta64[ns]\")\n",
    "        print(df.columns)\n",
    "\n",
    "        #extract numpy arrays\n",
    "        X = df[data_cols].values\n",
    "        y = df[label_col].values\n",
    "\n",
    "        #find find where all annotations agree and make new column for label\n",
    "        labels = []\n",
    "        for row in y:\n",
    "            if sum(row) == 3:\n",
    "                labels.append(1)\n",
    "            else:\n",
    "                labels.append(0)\n",
    "        df['label'] = np.array(labels)\n",
    "\n",
    "        X = df[data_cols].values\n",
    "        y = df.label.values\n",
    "        df.drop(columns=info_cols, inplace=True)\n",
    "        print(len(y))\n",
    "        \n",
    "        #extract discrete sequences of data labeled as 1s and 0s\n",
    "        state = 0\n",
    "        seq = []\n",
    "        master = []\n",
    "        labels = []\n",
    "        for feature,label in zip(X,y):\n",
    "            if label==state:\n",
    "                seq.append(feature)\n",
    "            else:\n",
    "                seconds = len(seq)//1000\n",
    "                if seconds>=10:\n",
    "                    #split array into 10 second chunks\n",
    "                    X,y = [],[]\n",
    "                    for feature in seq:\n",
    "                        x_ = np.array_split(feature, 256) #1 second chunks\n",
    "                        for elm in x_:\n",
    "                            df = pd.DataFrame(seq, columns=data_cols)\n",
    "                            df['label'] = state\n",
    "                            df.to_csv(\"data/dataset.csv\", mode='a', header=(not os.path.exists(output_path)))\n",
    "                            counter +=1\n",
    "                    state = label\n",
    "                    seq = []\n",
    "        return counter\n",
    "    except Exception as e:\n",
    "        print(str(\"ERROR WITH FILE {}, {}\").format(file, e))\n",
    "        "
   ]
  }
 ],
 "metadata": {
  "kernelspec": {
   "display_name": "Python (pyspark)",
   "language": "python",
   "name": "pyspark"
  },
  "language_info": {
   "codemirror_mode": {
    "name": "ipython",
    "version": 3
   },
   "file_extension": ".py",
   "mimetype": "text/x-python",
   "name": "python",
   "nbconvert_exporter": "python",
   "pygments_lexer": "ipython3",
   "version": "3.7.7"
  }
 },
 "nbformat": 4,
 "nbformat_minor": 2
}
