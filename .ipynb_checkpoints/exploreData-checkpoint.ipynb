{
 "cells": [
  {
   "cell_type": "code",
   "execution_count": 1,
   "metadata": {},
   "outputs": [],
   "source": [
    "import json\n",
    "import glob\n",
    "import mne\n",
    "import matplotlib.pyplot as plt\n",
    "import scipy.io\n",
    "import pandas as pd\n",
    "import numpy as np"
   ]
  },
  {
   "cell_type": "code",
   "execution_count": 2,
   "metadata": {},
   "outputs": [],
   "source": [
    "# str{1,1} = 'Fp2'; str{1,2} = 'F4';     % Fp2-F4\n",
    "# str{2,1} = 'F4'; str{2,2} = 'C4';     % F4-C4\n",
    "# str{3,1} = 'C4'; str{3,2} = 'P4';     % C4-P4\n",
    "# str{4,1} = 'P4'; str{4,2} = 'O2';     % P4-O2\n",
    "# str{5,1} = 'Fp1'; str{5,2} = 'F3';     % Fp1-F3\n",
    "# str{6,1} = 'F3'; str{6,2} = 'C3';     % F3-C3\n",
    "# str{7,1} = 'C3'; str{7,2} = 'P3';     % C3-P3\n",
    "# str{8,1} = 'P3'; str{8,2} = 'O1';     % P3-O1\n",
    "# str{9,1} = 'Fp2'; str{9,2} = 'F8';     % Fp2-F8\n",
    "# str{10,1} = 'F8'; str{10,2} = 'T4';     % F8-T4\n",
    "# str{11,1} = 'T4'; str{11,2} = 'T6';     % T4-T6\n",
    "# str{12,1} = 'T6'; str{12,2} = 'O2';     % T6-O2\n",
    "# str{13,1} = 'Fp1';  str{13,2} ='F7';     % Fp1-F7\n",
    "# str{14,1} = 'F7'; str{14,2} = 'T3';     % F7-T3\n",
    "# str{15,1} = 'T3'; str{15,2} = 'T5';     % T3-T5\n",
    "# str{16,1} = 'T5'; str{16,2} = 'O1';     % T5-O1\n",
    "# str{17,1} = 'Fz'; str{17,2} = 'Cz';     % Fz-Cz\n",
    "# str{18,1} = 'Cz';  str{18,2} ='Pz';     % Cz-Pz\n",
    "        \n",
    "    \n",
    "channelInfo = {\n",
    "        'eegChannels': ['Fp1', 'Fp2', 'C3', 'C4', 'O1', 'O2', 'T3', 'T4', 'Cz'],\n",
    "        'eogChannels': ['PG1', 'PG2'],\n",
    "        'miscChannels': ['F3', 'F4', 'X1', 'X2'],\n",
    "        'excludeList': ['DC01','DC02','DC07','DC08','Mark1','Mark2','X4','T1',\n",
    "                        'T2','P3', 'P4','F7', 'F8', 'T5', 'T6', 'Fz', 'Pz',\n",
    "                        'E','A1', 'A2', 'Lt Zyg', 'Rt Zyg', 'oz', 'SpO2',\n",
    "                        'EtCO2', 'DC03', 'DC04', 'DC05', 'DC06', 'Pulse',\n",
    "                        'CO2Wave', 'EEG Mark1', 'EEG Mark2','STI 014',\n",
    "                        'Events/Markers']\n",
    "        }"
   ]
  },
  {
   "cell_type": "code",
   "execution_count": 3,
   "metadata": {},
   "outputs": [],
   "source": [
    "def load_dataset(file, annotations, channelInfo):\n",
    "    raw = mne.io.read_raw_edf(file, preload=True,\n",
    "                              eog=channelInfo['eogChannels'],\n",
    "                              exclude=channelInfo['excludeList'],\n",
    "                              misc=channelInfo['miscChannels'],\n",
    "                              verbose=0)\n",
    "    df = raw.to_data_frame()\n",
    "    df.set_index(\"time\", inplace=True, drop=True)\n",
    "    \n",
    "    eeg_id = file.split(\"eeg\")[-1].split(\".\")[0] # example: eeg_id for eeg1.edf is 1\n",
    "    \n",
    "    #use annoations A B and C to add labels to df\n",
    "    for i,file in enumerate(annotations):\n",
    "        annot_df = pd.read_csv(file)\n",
    "        class_labels = annot_df[eeg_id]\n",
    "        #if sampling rate is 256 hz and data is labeled every second, this should fit the labels to the data?\n",
    "        class_labels = [val for val in class_labels for _ in range(256)]\n",
    "        print(len(class_labels), len(df))\n",
    "        labs = class_labels[:len(df)]\n",
    "        df['label_'+str(i)] = labs\n",
    "        \n",
    "    return df"
   ]
  },
  {
   "cell_type": "code",
   "execution_count": 12,
   "metadata": {},
   "outputs": [],
   "source": [
    "filepath = \"../../../../groups/eeg/eeg-data/*.edf\"\n",
    "edf_files = glob.glob(filepath)\n",
    "annotations = glob.glob('metadata/annot*.csv')"
   ]
  },
  {
   "cell_type": "code",
   "execution_count": null,
   "metadata": {},
   "outputs": [
    {
     "name": "stdout",
     "output_type": "stream",
     "text": [
      "../../../../groups/eeg/eeg-data/eeg1.edf\n"
     ]
    },
    {
     "name": "stderr",
     "output_type": "stream",
     "text": [
      "<ipython-input-3-7e3499b3b3f3>:6: RuntimeWarning: Number of records from the header does not match the file size (perhaps the recording was not stopped before exiting). Inferring from the file size.\n",
      "  verbose=0)\n"
     ]
    },
    {
     "name": "stdout",
     "output_type": "stream",
     "text": [
      ".csv\n",
      "../../../../groups/eeg/eeg-data/eeg2.edf\n"
     ]
    },
    {
     "name": "stderr",
     "output_type": "stream",
     "text": [
      "<ipython-input-3-7e3499b3b3f3>:6: RuntimeWarning: Number of records from the header does not match the file size (perhaps the recording was not stopped before exiting). Inferring from the file size.\n",
      "  verbose=0)\n"
     ]
    },
    {
     "name": "stdout",
     "output_type": "stream",
     "text": [
      ".csv\n",
      "../../../../groups/eeg/eeg-data/eeg3.edf\n",
      ".csv\n"
     ]
    }
   ],
   "source": [
    "for i,file in enumerate(edf_files):\n",
    "    print(file)\n",
    "    df = load_dataset(file, annotations, channelInfo)\n",
    "    csv_name = file.split(\".\")[0]+\".csv\"\n",
    "    print(csv_name)\n",
    "    df.to_csv(csv_name)"
   ]
  },
  {
   "cell_type": "code",
   "execution_count": null,
   "metadata": {},
   "outputs": [],
   "source": [
    "file = edf_files[2]\n",
    "print(file)"
   ]
  },
  {
   "cell_type": "code",
   "execution_count": null,
   "metadata": {},
   "outputs": [],
   "source": [
    "df = raw.to_data_frame()\n",
    "df.set_index(\"time\", inplace=True, drop=True)\n",
    "\n",
    "\n",
    "print(file)\n",
    "eeg_id = file.split(\"eeg\")[-1].split(\".\")[0] # example: eeg_id for eeg1.edf is 1\n",
    "\n",
    "print(eeg_id)"
   ]
  },
  {
   "cell_type": "code",
   "execution_count": null,
   "metadata": {},
   "outputs": [],
   "source": [
    "print(annotations)\n",
    "annot = pd.read_csv(annotations[0])\n",
    "annot.tail()"
   ]
  },
  {
   "cell_type": "code",
   "execution_count": 7,
   "metadata": {},
   "outputs": [
    {
     "name": "stdout",
     "output_type": "stream",
     "text": [
      "[]\n"
     ]
    }
   ],
   "source": [
    "#use annoations A B and C to add labels to df\n",
    "print(annotations)\n",
    "for i,f in enumerate(annotations):\n",
    "    annot_df = pd.read_csv(f)\n",
    "    class_labels = annot_df[eeg_id]\n",
    "    #if sampling rate is 256 hz and data is labeled every second, this should fit the labels to the data?\n",
    "    class_labels = [val for val in class_labels for _ in range(256)]\n",
    "    labs = class_labels[:len(df)]\n",
    "    df['label_'+str(i)] = labs"
   ]
  },
  {
   "cell_type": "code",
   "execution_count": 8,
   "metadata": {},
   "outputs": [
    {
     "ename": "NameError",
     "evalue": "name 'df' is not defined",
     "output_type": "error",
     "traceback": [
      "\u001b[0;31m---------------------------------------------------------------------------\u001b[0m",
      "\u001b[0;31mNameError\u001b[0m                                 Traceback (most recent call last)",
      "\u001b[0;32m<ipython-input-8-00cf07b74dcd>\u001b[0m in \u001b[0;36m<module>\u001b[0;34m\u001b[0m\n\u001b[0;32m----> 1\u001b[0;31m \u001b[0mdf\u001b[0m\u001b[0;34m\u001b[0m\u001b[0;34m\u001b[0m\u001b[0m\n\u001b[0m",
      "\u001b[0;31mNameError\u001b[0m: name 'df' is not defined"
     ]
    }
   ],
   "source": [
    "df"
   ]
  },
  {
   "cell_type": "code",
   "execution_count": 32,
   "metadata": {},
   "outputs": [
    {
     "data": {
      "text/plain": [
       "time\n",
       "0         0.0\n",
       "4         0.0\n",
       "8         0.0\n",
       "12        0.0\n",
       "16        0.0\n",
       "         ... \n",
       "219980    0.0\n",
       "219984    0.0\n",
       "219988    0.0\n",
       "219992    0.0\n",
       "219996    0.0\n",
       "Name: label_0, Length: 56320, dtype: float64"
      ]
     },
     "execution_count": 32,
     "metadata": {},
     "output_type": "execute_result"
    }
   ],
   "source": [
    "df.label_0[:56320]"
   ]
  },
  {
   "cell_type": "code",
   "execution_count": 35,
   "metadata": {},
   "outputs": [
    {
     "name": "stdout",
     "output_type": "stream",
     "text": [
      "../../../groups/eeg/eeg-data/eeg3.csv\n"
     ]
    }
   ],
   "source": [
    "csv_name = file.replace(\"edf\", \"csv\")\n",
    "print(csv_name)\n",
    "df.to_csv(csv_name)"
   ]
  },
  {
   "cell_type": "code",
   "execution_count": null,
   "metadata": {},
   "outputs": [],
   "source": []
  },
  {
   "cell_type": "code",
   "execution_count": 33,
   "metadata": {},
   "outputs": [
    {
     "data": {
      "text/plain": [
       "'../../../groups/eeg/eeg-data/eeg3.edf'"
      ]
     },
     "execution_count": 33,
     "metadata": {},
     "output_type": "execute_result"
    }
   ],
   "source": [
    "file"
   ]
  },
  {
   "cell_type": "code",
   "execution_count": null,
   "metadata": {},
   "outputs": [],
   "source": []
  }
 ],
 "metadata": {
  "kernelspec": {
   "display_name": "Python (pyspark)",
   "language": "python",
   "name": "pyspark"
  },
  "language_info": {
   "codemirror_mode": {
    "name": "ipython",
    "version": 3
   },
   "file_extension": ".py",
   "mimetype": "text/x-python",
   "name": "python",
   "nbconvert_exporter": "python",
   "pygments_lexer": "ipython3",
   "version": "3.7.7"
  }
 },
 "nbformat": 4,
 "nbformat_minor": 2
}
