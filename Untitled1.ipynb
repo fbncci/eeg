{
 "cells": [
  {
   "cell_type": "code",
   "execution_count": 2,
   "metadata": {},
   "outputs": [],
   "source": [
    "from pyspark.sql import *"
   ]
  },
  {
   "cell_type": "code",
   "execution_count": 3,
   "metadata": {},
   "outputs": [],
   "source": [
    "spark = SparkSession.builder.appName('eeg').getOrCreate()\n",
    "df=spark.read.csv('data/*.csv', mode=\"DROPMALFORMED\",inferSchema=True, header = True)"
   ]
  },
  {
   "cell_type": "code",
   "execution_count": 7,
   "metadata": {},
   "outputs": [
    {
     "data": {
      "text/plain": [
       "Row(_c0=0, eeg fp1=0.0034999999998035487, eeg f3=0.0034999999998035487, eeg o1=0.0034999999998035487, eeg p3=0.0034999999998035487, eeg t3=0.0034999999998035487, eeg t4=0.0034999999998035487, eeg o2=0.0034999999998035487, eeg f8=0.0034999999998035487, eeg fz=0.0034999999998035487, eeg f4=0.0034999999998035487, eeg fp2=0.0034999999998035487, eeg c3=0.0034999999998035487, eeg t6=0.0034999999998035487, eeg t5=0.0034999999998035487, eeg cz=0.0034999999998035487, eeg f7=0.0034999999998035487, eeg c4=0.0034999999998035487, eeg pz=0.0034999999998035487, eeg p4=0.0034999999998035487, label=0)"
      ]
     },
     "execution_count": 7,
     "metadata": {},
     "output_type": "execute_result"
    }
   ],
   "source": [
    "df.head()"
   ]
  },
  {
   "cell_type": "code",
   "execution_count": null,
   "metadata": {},
   "outputs": [],
   "source": [
    "|"
   ]
  }
 ],
 "metadata": {
  "kernelspec": {
   "display_name": "Python (pyspark)",
   "language": "python",
   "name": "pyspark"
  },
  "language_info": {
   "codemirror_mode": {
    "name": "ipython",
    "version": 3
   },
   "file_extension": ".py",
   "mimetype": "text/x-python",
   "name": "python",
   "nbconvert_exporter": "python",
   "pygments_lexer": "ipython3",
   "version": "3.7.7"
  }
 },
 "nbformat": 4,
 "nbformat_minor": 4
}
