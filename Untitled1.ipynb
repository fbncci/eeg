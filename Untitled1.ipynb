{
 "cells": [
  {
   "cell_type": "code",
   "execution_count": 2,
   "metadata": {},
   "outputs": [],
   "source": [
    "from pyspark.sql import *\n",
    "from pyspark.sql.functions import *\n",
    "from pyspark import SparkContext, SparkConf\n",
    "from pyspark.ml.feature import OneHotEncoderEstimator, StringIndexer, StandardScaler, VectorAssembler\n",
    "from pyspark.ml import Pipeline\n",
    "from pyspark.mllib.evaluation import MulticlassMetrics\n",
    "\n",
    "# Keras / Deep Learning\n",
    "# from keras.models import Sequential\n",
    "# from keras.layers.core import Dense, Dropout, Activation,Embedding, LSTM, Dropout\n",
    "# from keras import optimizers, regularizers\n",
    "# from keras.optimizers import Adam\n",
    "# from keras.preprocessing import sequence\n",
    "# from keras.callbacks import EarlyStopping, ModelCheckpoint\n",
    "# from keras.callbacks import callbacks\n",
    "\n",
    "# Elephas for Deep Learning on Spark\n",
    "# from elephas.ml_model import ElephasEstimator"
   ]
  },
  {
   "cell_type": "code",
   "execution_count": 4,
   "metadata": {},
   "outputs": [],
   "source": [
    "# spark = SparkSession.builder.appName('eeg').getOrCreate()\n",
    "# df=spark.read.csv('/wsu/home/groups/eeg/eeg-data/train/*.csv', inferSchema=True, header = True)"
   ]
  },
  {
   "cell_type": "code",
   "execution_count": null,
   "metadata": {},
   "outputs": [],
   "source": [
    "df.head()\n",
    "df = df.drop('_c0') #drop the index column"
   ]
  },
  {
   "cell_type": "code",
   "execution_count": null,
   "metadata": {},
   "outputs": [],
   "source": [
    "df.columns"
   ]
  },
  {
   "cell_type": "code",
   "execution_count": 5,
   "metadata": {},
   "outputs": [
    {
     "name": "stdout",
     "output_type": "stream",
     "text": [
      "+-----+-------+\n",
      "|label|  count|\n",
      "+-----+-------+\n",
      "|    1| 402432|\n",
      "|    0|7287735|\n",
      "+-----+-------+\n",
      "\n"
     ]
    }
   ],
   "source": [
    "df.groupby(\"label\").count().show()"
   ]
  },
  {
   "cell_type": "code",
   "execution_count": 5,
   "metadata": {},
   "outputs": [],
   "source": [
    "import pandas as pd"
   ]
  },
  {
   "cell_type": "code",
   "execution_count": 6,
   "metadata": {},
   "outputs": [],
   "source": [
    "df = pd.read_csv(\"/wsu/home/groups/eeg/eeg-data/train/0.csv\")"
   ]
  },
  {
   "cell_type": "code",
   "execution_count": 7,
   "metadata": {},
   "outputs": [
    {
     "data": {
      "text/html": [
       "<div>\n",
       "<style scoped>\n",
       "    .dataframe tbody tr th:only-of-type {\n",
       "        vertical-align: middle;\n",
       "    }\n",
       "\n",
       "    .dataframe tbody tr th {\n",
       "        vertical-align: top;\n",
       "    }\n",
       "\n",
       "    .dataframe thead th {\n",
       "        text-align: right;\n",
       "    }\n",
       "</style>\n",
       "<table border=\"1\" class=\"dataframe\">\n",
       "  <thead>\n",
       "    <tr style=\"text-align: right;\">\n",
       "      <th></th>\n",
       "      <th>Unnamed: 0</th>\n",
       "      <th>ecg ekg</th>\n",
       "      <th>eeg c3</th>\n",
       "      <th>eeg c4</th>\n",
       "      <th>eeg cz</th>\n",
       "      <th>eeg f3</th>\n",
       "      <th>eeg f4</th>\n",
       "      <th>eeg f7</th>\n",
       "      <th>eeg f8</th>\n",
       "      <th>eeg fp1</th>\n",
       "      <th>...</th>\n",
       "      <th>eeg pz</th>\n",
       "      <th>eeg t3</th>\n",
       "      <th>eeg t4</th>\n",
       "      <th>eeg t5</th>\n",
       "      <th>eeg t6</th>\n",
       "      <th>label_0</th>\n",
       "      <th>label_1</th>\n",
       "      <th>label_2</th>\n",
       "      <th>resp effort</th>\n",
       "      <th>time</th>\n",
       "    </tr>\n",
       "    <tr>\n",
       "      <th>label</th>\n",
       "      <th></th>\n",
       "      <th></th>\n",
       "      <th></th>\n",
       "      <th></th>\n",
       "      <th></th>\n",
       "      <th></th>\n",
       "      <th></th>\n",
       "      <th></th>\n",
       "      <th></th>\n",
       "      <th></th>\n",
       "      <th></th>\n",
       "      <th></th>\n",
       "      <th></th>\n",
       "      <th></th>\n",
       "      <th></th>\n",
       "      <th></th>\n",
       "      <th></th>\n",
       "      <th></th>\n",
       "      <th></th>\n",
       "      <th></th>\n",
       "      <th></th>\n",
       "    </tr>\n",
       "  </thead>\n",
       "  <tbody>\n",
       "    <tr>\n",
       "      <th>0</th>\n",
       "      <td>1599488</td>\n",
       "      <td>1599488</td>\n",
       "      <td>1599488</td>\n",
       "      <td>1599488</td>\n",
       "      <td>1599488</td>\n",
       "      <td>1599488</td>\n",
       "      <td>1599488</td>\n",
       "      <td>1599488</td>\n",
       "      <td>1599488</td>\n",
       "      <td>1599488</td>\n",
       "      <td>...</td>\n",
       "      <td>1599488</td>\n",
       "      <td>1599488</td>\n",
       "      <td>1599488</td>\n",
       "      <td>1599488</td>\n",
       "      <td>1599488</td>\n",
       "      <td>1599488</td>\n",
       "      <td>1599488</td>\n",
       "      <td>1599488</td>\n",
       "      <td>1599488</td>\n",
       "      <td>1599488</td>\n",
       "    </tr>\n",
       "    <tr>\n",
       "      <th>1</th>\n",
       "      <td>190720</td>\n",
       "      <td>190720</td>\n",
       "      <td>190720</td>\n",
       "      <td>190720</td>\n",
       "      <td>190720</td>\n",
       "      <td>190720</td>\n",
       "      <td>190720</td>\n",
       "      <td>190720</td>\n",
       "      <td>190720</td>\n",
       "      <td>190720</td>\n",
       "      <td>...</td>\n",
       "      <td>190720</td>\n",
       "      <td>190720</td>\n",
       "      <td>190720</td>\n",
       "      <td>190720</td>\n",
       "      <td>190720</td>\n",
       "      <td>190720</td>\n",
       "      <td>190720</td>\n",
       "      <td>190720</td>\n",
       "      <td>190720</td>\n",
       "      <td>190720</td>\n",
       "    </tr>\n",
       "  </tbody>\n",
       "</table>\n",
       "<p>2 rows × 26 columns</p>\n",
       "</div>"
      ],
      "text/plain": [
       "       Unnamed: 0  ecg ekg   eeg c3   eeg c4   eeg cz   eeg f3   eeg f4  \\\n",
       "label                                                                     \n",
       "0         1599488  1599488  1599488  1599488  1599488  1599488  1599488   \n",
       "1          190720   190720   190720   190720   190720   190720   190720   \n",
       "\n",
       "        eeg f7   eeg f8  eeg fp1  ...   eeg pz   eeg t3   eeg t4   eeg t5  \\\n",
       "label                             ...                                       \n",
       "0      1599488  1599488  1599488  ...  1599488  1599488  1599488  1599488   \n",
       "1       190720   190720   190720  ...   190720   190720   190720   190720   \n",
       "\n",
       "        eeg t6  label_0  label_1  label_2  resp effort     time  \n",
       "label                                                            \n",
       "0      1599488  1599488  1599488  1599488      1599488  1599488  \n",
       "1       190720   190720   190720   190720       190720   190720  \n",
       "\n",
       "[2 rows x 26 columns]"
      ]
     },
     "execution_count": 7,
     "metadata": {},
     "output_type": "execute_result"
    }
   ],
   "source": [
    "df.groupby('label').count()"
   ]
  },
  {
   "cell_type": "code",
   "execution_count": null,
   "metadata": {},
   "outputs": [],
   "source": [
    "# Scale Feature: Select the Features to Scale using helper 'select_features_to_scale' function above and Standardize \n",
    "unscaled_features = select_features_to_scale(df=df, lower_skew=-2, upper_skew=2, dtypes='int32', drop_cols=['id'])\n",
    "\n",
    "unscaled_assembler = VectorAssembler(inputCols=unscaled_features, outputCol=\"unscaled_features\")\n",
    "scaler = StandardScaler(inputCol=\"unscaled_features\", outputCol=\"scaled_features\")\n",
    "\n",
    "stages += [unscaled_assembler, scaler]\n",
    "\n",
    "# Create list of Numeric Features that Are Not Being Scaled\n",
    "num_unscaled_diff_list = list(set(num_features) - set(unscaled_features))\n",
    "\n",
    "# Assemble or Concat the Categorical Features and Numeric Features\n",
    "assembler_inputs = [feature + \"_class_vec\" for feature in cat_features] + num_unscaled_diff_list\n",
    "\n",
    "assembler = VectorAssembler(inputCols=assembler_inputs, outputCol=\"assembled_inputs\") \n",
    "\n",
    "stages += [label_str_index, assembler]\n",
    "\n",
    "# Assemble Final Training Data of Scaled, Numeric, and Categorical Engineered Features\n",
    "assembler_final = VectorAssembler(inputCols=[\"scaled_features\",\"assembled_inputs\"], outputCol=\"features\")\n",
    "\n",
    "stages += [assembler_final]"
   ]
  }
 ],
 "metadata": {
  "kernelspec": {
   "display_name": "Python (pyspark)",
   "language": "python",
   "name": "pyspark"
  },
  "language_info": {
   "codemirror_mode": {
    "name": "ipython",
    "version": 3
   },
   "file_extension": ".py",
   "mimetype": "text/x-python",
   "name": "python",
   "nbconvert_exporter": "python",
   "pygments_lexer": "ipython3",
   "version": "3.7.7"
  }
 },
 "nbformat": 4,
 "nbformat_minor": 4
}
